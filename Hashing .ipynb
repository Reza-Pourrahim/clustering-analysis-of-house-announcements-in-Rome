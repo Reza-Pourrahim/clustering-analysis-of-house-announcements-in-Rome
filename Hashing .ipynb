{
 "cells": [
  {
   "cell_type": "markdown",
   "metadata": {},
   "source": [
    "## HomeWork 4 / Section 2 ( Hashing) / Group 14"
   ]
  },
  {
   "cell_type": "markdown",
   "metadata": {},
   "source": [
    "### 2) Find the duplicates!\n",
    "<br>\n",
    "In the assignment we have passwords2.txt file as input. Each row corresponds to a string of 20 characters. We have to define a hash function that associates a value to each string. In this case, the goal is to check whether there are some duplicate strings."
   ]
  },
  {
   "cell_type": "markdown",
   "metadata": {},
   "source": [
    "### Importing the required libraries"
   ]
  },
  {
   "cell_type": "code",
   "execution_count": 1,
   "metadata": {},
   "outputs": [],
   "source": [
    "from collections import Counter"
   ]
  },
  {
   "cell_type": "markdown",
   "metadata": {},
   "source": [
    "### Raeding the Text File containing the passwords"
   ]
  },
  {
   "cell_type": "code",
   "execution_count": 2,
   "metadata": {},
   "outputs": [],
   "source": [
    "# Reading the text file line by line and appending them into a list\n",
    "data=[]\n",
    "with open('passwords2.txt', 'r') as fileobject:\n",
    "    for line in fileobject:\n",
    "        data.append(line[:-1]) # line[::-1] : Eliminating the last character ('/n')       "
   ]
  },
  {
   "cell_type": "markdown",
   "metadata": {},
   "source": [
    "### A) The definition of duplicate is that the two strings have the same characters, order is not important. <br> Thus, \"AABA\" = \"AAAB\"."
   ]
  },
  {
   "cell_type": "markdown",
   "metadata": {},
   "source": [
    "### Defining the Hash Function "
   ]
  },
  {
   "cell_type": "code",
   "execution_count": 3,
   "metadata": {},
   "outputs": [],
   "source": [
    "def hashfunction(string, radix, tablesize):\n",
    "    # In this phase we want to convert passwords to a large number\n",
    "    converted_passw = [] # creating a list for keeping the converted password \n",
    "    sum = 0\n",
    "    power = 0\n",
    "    for char in range(len(string)): # For each character in string(password) we convert them to the ASCII numbers \n",
    "        converted_passw.append(ord(string[char])) # appending converted character to the converted_passw list\n",
    "        converted_passw = sorted(converted_passw)\n",
    "    for num in converted_passw:\n",
    "        sum += num * radix**power\n",
    "        power += 1\n",
    "    hash_value = sum % tablesize\n",
    "    return hash_value"
   ]
  },
  {
   "cell_type": "markdown",
   "metadata": {},
   "source": [
    "#### In this phase we want to apply our defined hash function on the data </n>\n",
    "<b> Hash table size : </b> we considered the hash table as to be an array with length about <b> 2.5 </b> times the maximum number of keys that will actually be in the table, and. Also, the size of hash table array should be a prime number. <br>\n",
    "<H4> Since we were not able to continue the process by considering whole data, so we sliced the data. </H4>"
   ]
  },
  {
   "cell_type": "code",
   "execution_count": 4,
   "metadata": {},
   "outputs": [],
   "source": [
    "data = data[:110000]\n",
    "hash_values = []\n",
    "tablesize = 275111\n",
    "radix = 128\n",
    "for passw in data:\n",
    "    hash_values.append(hashfunction(passw, radix, tablesize))"
   ]
  },
  {
   "cell_type": "markdown",
   "metadata": {},
   "source": [
    "#### Number of Duplicates\n",
    "By computing the difference between the length of hash_values and the length of set (hash_values) we can know how many duplicates we have"
   ]
  },
  {
   "cell_type": "code",
   "execution_count": 5,
   "metadata": {},
   "outputs": [
    {
     "name": "stdout",
     "output_type": "stream",
     "text": [
      "Number of Duplicates is: 19515\n"
     ]
    }
   ],
   "source": [
    "difference = len(hash_values) - len(set(hash_values))\n",
    "print('Number of Duplicates is:', str(difference))"
   ]
  },
  {
   "cell_type": "markdown",
   "metadata": {},
   "source": [
    "#### Detecting the duplicates & False Positive \n",
    "Now, we want to detect the duplicates and check if two strings with different characters are hashed to the same value (False Positive)"
   ]
  },
  {
   "cell_type": "code",
   "execution_count": 6,
   "metadata": {},
   "outputs": [],
   "source": [
    "# First, we have to get those hash values that were duplicated\n",
    "duplicated_values = [item for item, count in Counter(hash_values).items() if count > 1]\n",
    "\n",
    "#Second, we have to get the index of duplicated hash values\n",
    "duplicated_index = [index for index, item in enumerate(hash_values) if item in duplicated_values]"
   ]
  },
  {
   "cell_type": "markdown",
   "metadata": {},
   "source": [
    "#### The Duplicated Passwords"
   ]
  },
  {
   "cell_type": "code",
   "execution_count": 7,
   "metadata": {},
   "outputs": [],
   "source": [
    "duplicated_passwords = []\n",
    "for index in duplicated_index:\n",
    "    duplicated_passwords.append(data[index])"
   ]
  },
  {
   "cell_type": "code",
   "execution_count": 8,
   "metadata": {},
   "outputs": [
    {
     "data": {
      "text/plain": [
       "['OHcv-/U3QI$rdqYTef\"D',\n",
       " 'b%xJ79\"A*C5@ehMfS3lu',\n",
       " 'buI=;LpjBiCm\"JS5\\'#xy',\n",
       " 'cL=fhD1Vvu,4Gayn/UIX',\n",
       " '6(=purLEG5>dj\\'gT\"q39']"
      ]
     },
     "execution_count": 8,
     "metadata": {},
     "output_type": "execute_result"
    }
   ],
   "source": [
    "duplicated_passwords[:5]"
   ]
  },
  {
   "cell_type": "markdown",
   "metadata": {},
   "source": [
    "#### The Number of False Positive"
   ]
  },
  {
   "cell_type": "code",
   "execution_count": 12,
   "metadata": {},
   "outputs": [
    {
     "name": "stdout",
     "output_type": "stream",
     "text": [
      "Number of False Positive is: 19515\n"
     ]
    }
   ],
   "source": [
    "fp = 0\n",
    "for index in duplicated_index:\n",
    "    \n",
    "    hash_index = hash_values.index(hash_values[index]) \n",
    "    #we get the index of hash_value using index in duplicated_index \n",
    "    \n",
    "    #getting the password using index in duplicated_index\n",
    "    duplicated_passw = sorted(data[index].split(' ')) \n",
    "    \n",
    "    #getting the password using the hash_index \n",
    "    hash_index_passw = sorted(data[hash_index].split(' ')) \n",
    "    \n",
    "    if duplicated_passw != hash_index_passw: #checking if they are not similar\n",
    "        fp += 1 #if True, we add 1 to the defined counter (fp)\n",
    "        \n",
    "print('Number of False Positive is:', str(fp))"
   ]
  },
  {
   "cell_type": "markdown",
   "metadata": {},
   "source": [
    "#### Since the considered data is small it makes sense that may all of them become false positive"
   ]
  },
  {
   "cell_type": "markdown",
   "metadata": {},
   "source": [
    "### B) Now doing the same thing as before, but now the order of the characters must be put into account.<br> Example: \"AABA\" != \"AAAB\"."
   ]
  },
  {
   "cell_type": "markdown",
   "metadata": {},
   "source": [
    "### Defining the Hash Function"
   ]
  },
  {
   "cell_type": "code",
   "execution_count": 14,
   "metadata": {},
   "outputs": [],
   "source": [
    "def hashfunction(string, radix, tablesize):\n",
    "    # In this phase we want to convert passwords to a large number\n",
    "    converted_passw = [] # creating a list for keeping the converted password \n",
    "    sum = 0\n",
    "    power = 0\n",
    "    for char in range(len(string)): # For each character in string(password) we convert them to the ASCII numbers \n",
    "        converted_passw.append(ord(string[char])) # appending converted character to the converted_passw list\n",
    "    converted_passw = converted_passw[::-1] # reversing the list in order to apply radix-128\n",
    "    for num in converted_passw:\n",
    "        sum += num * radix**power\n",
    "        power += 1\n",
    "    hash_value = sum % tablesize\n",
    "    return hash_value"
   ]
  },
  {
   "cell_type": "markdown",
   "metadata": {},
   "source": [
    "#### In this phase we want to apply our defined hash function on the data"
   ]
  },
  {
   "cell_type": "code",
   "execution_count": 15,
   "metadata": {},
   "outputs": [],
   "source": [
    "data = data[:110000]\n",
    "hash_values = []\n",
    "tablesize = 275111\n",
    "radix = 128\n",
    "for passw in data:\n",
    "    hash_values.append(hashfunction(passw, radix, tablesize))"
   ]
  },
  {
   "cell_type": "markdown",
   "metadata": {},
   "source": [
    "#### Number of Duplicates\n",
    "By computing the difference between the length of hash_values and the length of set (hash_values) we can know how many duplicates we have"
   ]
  },
  {
   "cell_type": "code",
   "execution_count": 16,
   "metadata": {},
   "outputs": [
    {
     "name": "stdout",
     "output_type": "stream",
     "text": [
      "Number of Duplicates is: 19303\n"
     ]
    }
   ],
   "source": [
    "difference = len(hash_values) - len(set(hash_values))\n",
    "print('Number of Duplicates is:', str(difference))"
   ]
  },
  {
   "cell_type": "markdown",
   "metadata": {},
   "source": [
    "#### Detecting the duplicates & False Positive \n",
    "Now, we want to detect the duplicates and check if two strings with different characters are hashed to the same value (False Positive)"
   ]
  },
  {
   "cell_type": "code",
   "execution_count": 17,
   "metadata": {},
   "outputs": [],
   "source": [
    "# First, we have to get those hash values that were duplicated\n",
    "duplicated_values = [item for item, count in Counter(hash_values).items() if count > 1]\n",
    "\n",
    "#Second, we have to get the index of duplicated hash values\n",
    "duplicated_index = [index for index, item in enumerate(hash_values) if item in duplicated_values]"
   ]
  },
  {
   "cell_type": "markdown",
   "metadata": {},
   "source": [
    "#### The Duplicated Passwords"
   ]
  },
  {
   "cell_type": "code",
   "execution_count": 18,
   "metadata": {},
   "outputs": [],
   "source": [
    "duplicated_passwords = []\n",
    "for index in duplicated_index:\n",
    "    duplicated_passwords.append(data[index])"
   ]
  },
  {
   "cell_type": "code",
   "execution_count": 19,
   "metadata": {},
   "outputs": [
    {
     "data": {
      "text/plain": [
       "[\"T;rqw/ou'HN-Pklj6hM*\",\n",
       " 'buI=;LpjBiCm\"JS5\\'#xy',\n",
       " 'cL=fhD1Vvu,4Gayn/UIX',\n",
       " '6(=purLEG5>dj\\'gT\"q39',\n",
       " ',H%NId7iUm\")DJtB:0K6']"
      ]
     },
     "execution_count": 19,
     "metadata": {},
     "output_type": "execute_result"
    }
   ],
   "source": [
    "duplicated_passwords[:5]"
   ]
  },
  {
   "cell_type": "markdown",
   "metadata": {},
   "source": [
    "#### The Number of False Positive"
   ]
  },
  {
   "cell_type": "code",
   "execution_count": 20,
   "metadata": {},
   "outputs": [
    {
     "name": "stdout",
     "output_type": "stream",
     "text": [
      "Number of False Positive is: 19303\n"
     ]
    }
   ],
   "source": [
    "fp = 0\n",
    "for index in duplicated_index:\n",
    "    \n",
    "    hash_index = hash_values.index(hash_values[index]) \n",
    "    #we get the index of hash_value using index in duplicated_index \n",
    "    \n",
    "    #getting the password using index in duplicated_index\n",
    "    duplicated_passw = data[index].split(' ') \n",
    "    \n",
    "    #getting the password using the hash_index \n",
    "    hash_index_passw = data[hash_index].split(' ') \n",
    "    \n",
    "    if duplicated_passw != hash_index_passw: #checking if they are not similar\n",
    "        fp += 1 #if True, we add 1 to the defined counter (fp)\n",
    "        \n",
    "print('Number of False Positive is:', str(fp))"
   ]
  }
 ],
 "metadata": {
  "kernelspec": {
   "display_name": "Python 3",
   "language": "python",
   "name": "python3"
  },
  "language_info": {
   "codemirror_mode": {
    "name": "ipython",
    "version": 3
   },
   "file_extension": ".py",
   "mimetype": "text/x-python",
   "name": "python",
   "nbconvert_exporter": "python",
   "pygments_lexer": "ipython3",
   "version": "3.7.0"
  }
 },
 "nbformat": 4,
 "nbformat_minor": 2
}
